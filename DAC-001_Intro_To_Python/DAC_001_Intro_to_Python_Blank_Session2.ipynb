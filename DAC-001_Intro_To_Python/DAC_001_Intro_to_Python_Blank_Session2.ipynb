{
  "cells": [
    {
      "cell_type": "markdown",
<<<<<<< HEAD
      "metadata": {
        "id": "XB1Co0jipXyX"
      },
      "source": [
        "# DACademy Session 2: Continuation of Intro to Python\n"
      ]
    },
    {
      "cell_type": "markdown",
      "metadata": {
        "id": "9CjKnsi6a4bx"
      },
=======
      "source": [
        "# DACademy Session 2: Continuation of Intro to Python\n"
      ],
      "metadata": {
        "id": "XB1Co0jipXyX"
      }
    },
    {
      "cell_type": "markdown",
>>>>>>> 07f71e3aaf27ce1a0d5a65814cbb1e5090e9731a
      "source": [
        "### Working with Dictionaries\n",
        "* used to store data values in key : value pairs\n",
        "* collection which is ordered, changeable, does not allow duplicates\n",
        "* Real - Life Examples: storing submitted personal data (name, age, date of birth etc.)\n",
        "\n"
<<<<<<< HEAD
      ]
    },
    {
      "cell_type": "code",
      "execution_count": null,
      "metadata": {
        "id": "CQYQ_s9EfPce"
      },
      "outputs": [],
      "source": [
        "# Empty Dictionary\n",
        "\n"
      ]
=======
      ],
      "metadata": {
        "id": "9CjKnsi6a4bx"
      }
    },
    {
      "cell_type": "code",
      "source": [
        "# Empty Dictionary\n",
        "\n"
      ],
      "metadata": {
        "id": "CQYQ_s9EfPce"
      },
      "execution_count": null,
      "outputs": []
>>>>>>> 07f71e3aaf27ce1a0d5a65814cbb1e5090e9731a
    },
    {
      "cell_type": "markdown",
      "metadata": {
        "id": "T6-IOUm20YP4"
      },
      "source": [
        "Creating a Dictionary"
      ]
    },
    {
      "cell_type": "code",
      "execution_count": null,
      "metadata": {
<<<<<<< HEAD
        "colab": {
          "base_uri": "https://localhost:8080/"
        },
        "id": "VqoCdg0z0YP4",
=======
        "id": "VqoCdg0z0YP4",
        "colab": {
          "base_uri": "https://localhost:8080/"
        },
>>>>>>> 07f71e3aaf27ce1a0d5a65814cbb1e5090e9731a
        "outputId": "4dd4c318-91d5-4b0c-eff5-d146ad475caa"
      },
      "outputs": [
        {
<<<<<<< HEAD
          "name": "stdout",
          "output_type": "stream",
=======
          "output_type": "stream",
          "name": "stdout",
>>>>>>> 07f71e3aaf27ce1a0d5a65814cbb1e5090e9731a
          "text": [
            "{'first_name': 'Kaavya', 'last_name': 'M', 'age': 22, 'tattoos': False}\n"
          ]
        }
      ],
      "source": [
        "# Let's create a dictionary for your information\n",
        "\n",
        " = {\n",
        "    \"first_name\": \"\",\n",
        "    \"last_name\": \"\",\n",
        "    \"age\": ,\n",
        "    \"tattoos\":\n",
        "}\n",
        "\n",
        "# Print your information\n",
        "\n"
      ]
    },
    {
      "cell_type": "code",
<<<<<<< HEAD
      "execution_count": null,
=======
      "source": [
        "#Let's print your last name\n"
      ],
>>>>>>> 07f71e3aaf27ce1a0d5a65814cbb1e5090e9731a
      "metadata": {
        "colab": {
          "base_uri": "https://localhost:8080/",
          "height": 35
        },
        "id": "hcMqbuRyflGf",
        "outputId": "8db5c897-2d72-417f-a45d-0ee7dbf9601c"
      },
<<<<<<< HEAD
      "outputs": [
        {
          "data": {
            "application/vnd.google.colaboratory.intrinsic+json": {
              "type": "string"
            },
            "text/plain": [
              "'M'"
            ]
          },
          "execution_count": 4,
          "metadata": {},
          "output_type": "execute_result"
        }
      ],
      "source": [
        "#Let's print your last name\n"
=======
      "execution_count": null,
      "outputs": [
        {
          "output_type": "execute_result",
          "data": {
            "text/plain": [
              "'M'"
            ],
            "application/vnd.google.colaboratory.intrinsic+json": {
              "type": "string"
            }
          },
          "metadata": {},
          "execution_count": 4
        }
>>>>>>> 07f71e3aaf27ce1a0d5a65814cbb1e5090e9731a
      ]
    },
    {
      "cell_type": "code",
<<<<<<< HEAD
      "execution_count": null,
=======
      "source": [
        "#Len Function for your name\n"
      ],
>>>>>>> 07f71e3aaf27ce1a0d5a65814cbb1e5090e9731a
      "metadata": {
        "colab": {
          "base_uri": "https://localhost:8080/"
        },
        "id": "Q2tMLWrmfw6g",
        "outputId": "ebce5490-1dee-4a53-ca08-e12b59d2be0b"
      },
<<<<<<< HEAD
      "outputs": [
        {
          "name": "stdout",
          "output_type": "stream",
=======
      "execution_count": null,
      "outputs": [
        {
          "output_type": "stream",
          "name": "stdout",
>>>>>>> 07f71e3aaf27ce1a0d5a65814cbb1e5090e9731a
          "text": [
            "4\n"
          ]
        }
<<<<<<< HEAD
      ],
      "source": [
        "#Len Function for your name\n"
=======
>>>>>>> 07f71e3aaf27ce1a0d5a65814cbb1e5090e9731a
      ]
    },
    {
      "cell_type": "code",
<<<<<<< HEAD
      "execution_count": null,
=======
      "source": [
        "#Let's find out what happens when a value not found in dictionary\n",
        "\n",
        "\n",
        "\n",
        "\n",
        ""
      ],
>>>>>>> 07f71e3aaf27ce1a0d5a65814cbb1e5090e9731a
      "metadata": {
        "colab": {
          "base_uri": "https://localhost:8080/"
        },
        "id": "8OKp7y9rgzFP",
        "outputId": "d0c27452-ab8f-4a97-aa5f-5e42dbfc1c19"
      },
<<<<<<< HEAD
      "outputs": [
        {
          "name": "stdout",
          "output_type": "stream",
=======
      "execution_count": null,
      "outputs": [
        {
          "output_type": "stream",
          "name": "stdout",
>>>>>>> 07f71e3aaf27ce1a0d5a65814cbb1e5090e9731a
          "text": [
            "User has no email\n"
          ]
        }
<<<<<<< HEAD
      ],
      "source": [
        "#Let's find out what happens when a value not found in dictionary\n",
        "\n",
        "\n",
        "\n",
        "\n"
=======
>>>>>>> 07f71e3aaf27ce1a0d5a65814cbb1e5090e9731a
      ]
    },
    {
      "cell_type": "markdown",
      "metadata": {
        "id": "v3J7hgZY0YPy"
      },
      "source": [
        "## Python Syntax"
      ]
    },
    {
      "cell_type": "markdown",
<<<<<<< HEAD
      "metadata": {
        "id": "Zg9fo_epqrZG"
      },
      "source": [
        "###Introduction"
      ]
=======
      "source": [
        "###Introduction"
      ],
      "metadata": {
        "id": "Zg9fo_epqrZG"
      }
>>>>>>> 07f71e3aaf27ce1a0d5a65814cbb1e5090e9731a
    },
    {
      "cell_type": "markdown",
      "metadata": {
        "id": "w0bTPKnF0YPy"
      },
      "source": [
        "If Statement with String Formatting"
      ]
    },
    {
      "cell_type": "code",
      "execution_count": null,
      "metadata": {
<<<<<<< HEAD
        "colab": {
          "base_uri": "https://localhost:8080/"
        },
        "id": "YOytItTP0YPy",
=======
        "id": "YOytItTP0YPy",
        "colab": {
          "base_uri": "https://localhost:8080/"
        },
>>>>>>> 07f71e3aaf27ce1a0d5a65814cbb1e5090e9731a
        "outputId": "f42ba258-6738-4001-cfd9-965e6321a7a6"
      },
      "outputs": [
        {
<<<<<<< HEAD
          "name": "stdout",
          "output_type": "stream",
=======
          "output_type": "stream",
          "name": "stdout",
>>>>>>> 07f71e3aaf27ce1a0d5a65814cbb1e5090e9731a
          "text": [
            "3 is less than 5\n"
          ]
        }
      ],
      "source": [
        "# Let's start by defining a & b, and assigning them values\n",
        "a =\n",
        "b =\n",
        "\n",
        "# Next let's check if b is less than a\n",
        " # It is important to include the indentation, this code will only run when b < a"
      ]
    },
    {
      "cell_type": "markdown",
      "metadata": {
        "id": "aZtCeATJ0YPz"
      },
      "source": [
        "Else Statement"
      ]
    },
    {
      "cell_type": "code",
      "execution_count": null,
      "metadata": {
<<<<<<< HEAD
        "colab": {
          "base_uri": "https://localhost:8080/"
        },
        "id": "Gnsnpkpo0YPz",
=======
        "id": "Gnsnpkpo0YPz",
        "colab": {
          "base_uri": "https://localhost:8080/"
        },
>>>>>>> 07f71e3aaf27ce1a0d5a65814cbb1e5090e9731a
        "outputId": "6051de59-08ec-484b-a584-ca186c19b9fd"
      },
      "outputs": [
        {
<<<<<<< HEAD
          "name": "stdout",
          "output_type": "stream",
=======
          "output_type": "stream",
          "name": "stdout",
>>>>>>> 07f71e3aaf27ce1a0d5a65814cbb1e5090e9731a
          "text": [
            "5 is greater than or equal to 3\n"
          ]
        }
      ],
      "source": [
        "# define a & b, and assign them values\n",
        "a =\n",
        "b =\n",
        "\n",
        "# Check if a is less than b\n",
        "\n",
        "  # If a is less than b, print this message\n",
        "\n",
        "else:\n",
<<<<<<< HEAD
        "  # Otherwise, print this message\n"
=======
        "  # Otherwise, print this message\n",
        ""
>>>>>>> 07f71e3aaf27ce1a0d5a65814cbb1e5090e9731a
      ]
    },
    {
      "cell_type": "markdown",
      "metadata": {
        "id": "7gGzsQcx0YPz"
      },
      "source": [
        "Elif Statement"
      ]
    },
    {
      "cell_type": "code",
      "execution_count": null,
      "metadata": {
<<<<<<< HEAD
        "colab": {
          "base_uri": "https://localhost:8080/"
        },
        "id": "V2zzPm2V0YPz",
=======
        "id": "V2zzPm2V0YPz",
        "colab": {
          "base_uri": "https://localhost:8080/"
        },
>>>>>>> 07f71e3aaf27ce1a0d5a65814cbb1e5090e9731a
        "outputId": "03536b11-374f-4791-9846-22e1f9496b00"
      },
      "outputs": [
        {
<<<<<<< HEAD
          "name": "stdout",
          "output_type": "stream",
=======
          "output_type": "stream",
          "name": "stdout",
>>>>>>> 07f71e3aaf27ce1a0d5a65814cbb1e5090e9731a
          "text": [
            "a and c are equal\n"
          ]
        }
      ],
      "source": [
        "# Define and assign values to three variables: a, b, and c\n",
        "a =\n",
        "b =\n",
        "c =\n",
        "\n",
        "# This code checks against three different conditions\n",
        "\n",
        "    # If a is less than c, print this message\n",
        "\n",
        "\n",
        "    # If a is greater than c, print this message\n",
        "\n",
        "\n",
<<<<<<< HEAD
        "    # If a and c are equal, print this message\n"
=======
        "    # If a and c are equal, print this message\n",
        ""
>>>>>>> 07f71e3aaf27ce1a0d5a65814cbb1e5090e9731a
      ]
    },
    {
      "cell_type": "markdown",
<<<<<<< HEAD
      "metadata": {
        "id": "9ztQ8lOSXRi4"
      },
      "source": [
        "###Range"
      ]
=======
      "source": [
        "###Range"
      ],
      "metadata": {
        "id": "9ztQ8lOSXRi4"
      }
>>>>>>> 07f71e3aaf27ce1a0d5a65814cbb1e5090e9731a
    },
    {
      "cell_type": "markdown",
      "metadata": {
        "id": "CufYhBfR0YPz"
      },
      "source": [
        "Creating a List Using range()"
      ]
    },
    {
      "cell_type": "code",
      "execution_count": null,
      "metadata": {
<<<<<<< HEAD
        "colab": {
          "base_uri": "https://localhost:8080/"
        },
        "id": "1cUShSBH0YPz",
=======
        "id": "1cUShSBH0YPz",
        "colab": {
          "base_uri": "https://localhost:8080/"
        },
>>>>>>> 07f71e3aaf27ce1a0d5a65814cbb1e5090e9731a
        "outputId": "7048e225-d47d-4695-8330-de136130e128"
      },
      "outputs": [
        {
<<<<<<< HEAD
          "name": "stdout",
          "output_type": "stream",
=======
          "output_type": "stream",
          "name": "stdout",
>>>>>>> 07f71e3aaf27ce1a0d5a65814cbb1e5090e9731a
          "text": [
            "[0, 1, 2, 3, 4, 5, 6, 7, 8, 9]\n"
          ]
        }
      ],
      "source": [
        "# This function will create a list of numbers from 0 to 9\n",
        "\n",
        "\n"
      ]
    },
    {
      "cell_type": "markdown",
      "metadata": {
        "id": "3XMFOpZK0YPz"
      },
      "source": [
        "Creating Lists with a Step Argument\n"
      ]
    },
    {
      "cell_type": "code",
      "execution_count": null,
      "metadata": {
<<<<<<< HEAD
        "colab": {
          "base_uri": "https://localhost:8080/"
        },
        "id": "WA1a-VVe0YPz",
=======
        "id": "WA1a-VVe0YPz",
        "colab": {
          "base_uri": "https://localhost:8080/"
        },
>>>>>>> 07f71e3aaf27ce1a0d5a65814cbb1e5090e9731a
        "outputId": "c2f3d450-0bb7-4de8-bdfa-4a045b8fa7a2"
      },
      "outputs": [
        {
<<<<<<< HEAD
          "name": "stdout",
          "output_type": "stream",
=======
          "output_type": "stream",
          "name": "stdout",
>>>>>>> 07f71e3aaf27ce1a0d5a65814cbb1e5090e9731a
          "text": [
            "[5, 4, 3, 2, 1, 0, -1, -2, -3, -4]\n"
          ]
        }
      ],
      "source": [
        "# Let's create a list starting from 5 and ending at -5, with a step of -1\n",
        "\n",
        "\n"
      ]
    },
    {
      "cell_type": "markdown",
<<<<<<< HEAD
      "metadata": {
        "id": "f4lquamxW_Xs"
      },
=======
>>>>>>> 07f71e3aaf27ce1a0d5a65814cbb1e5090e9731a
      "source": [
        "### Loops\n",
        "\n",
        "\n"
<<<<<<< HEAD
      ]
=======
      ],
      "metadata": {
        "id": "f4lquamxW_Xs"
      }
>>>>>>> 07f71e3aaf27ce1a0d5a65814cbb1e5090e9731a
    },
    {
      "cell_type": "markdown",
      "metadata": {
        "id": "yOXyVdxh0YPz"
      },
      "source": [
        "The range() Function: Understanding Its Role in Loop Iteration"
      ]
    },
    {
      "cell_type": "code",
      "execution_count": null,
      "metadata": {
<<<<<<< HEAD
        "colab": {
          "base_uri": "https://localhost:8080/"
        },
        "id": "oUhGT5-u0YPz",
=======
        "id": "oUhGT5-u0YPz",
        "colab": {
          "base_uri": "https://localhost:8080/"
        },
>>>>>>> 07f71e3aaf27ce1a0d5a65814cbb1e5090e9731a
        "outputId": "d4d856ea-86ff-4d80-ff47-94f17a7b3c13"
      },
      "outputs": [
        {
<<<<<<< HEAD
          "name": "stdout",
          "output_type": "stream",
=======
          "output_type": "stream",
          "name": "stdout",
>>>>>>> 07f71e3aaf27ce1a0d5a65814cbb1e5090e9731a
          "text": [
            "0\n",
            "1\n",
            "2\n",
            "3\n",
            "4\n"
          ]
        }
      ],
      "source": [
        "# Now let's do a simple for loop that iterates over a range of numbers from 0 to 4\n",
        "\n",
        "    # Print the current value of i\n",
        "\n",
        "\n",
        "# Loop functions are usually used to make things more efficient:\n",
        "# They allow you to perform actions on multiple items without writing repetitive code."
      ]
    },
    {
      "cell_type": "markdown",
<<<<<<< HEAD
      "metadata": {
        "id": "D0lCNWxaALyt"
      },
      "source": [
        "-"
      ]
    },
    {
      "cell_type": "markdown",
      "metadata": {
        "id": "ce1PB-8b9VqB"
      },
=======
      "source": [
        "-"
      ],
      "metadata": {
        "id": "D0lCNWxaALyt"
      }
    },
    {
      "cell_type": "markdown",
>>>>>>> 07f71e3aaf27ce1a0d5a65814cbb1e5090e9731a
      "source": [
        "**While Loop vs. For Loop**\n",
        "\n",
        "**While Loop:** Used when the number of iterations is not known in advance. It continues to execute as long as a specified condition is True.\n",
        "\n",
        "  *   Useful for situations where you don’t know how many times you need to iterate (e.g., reading user input until a certain command is given).\n",
        "\n",
        "\n",
        "\n",
        "\n",
        "**For Loop:** Used to iterate over a sequence (like a list, tuple, string, or range). It executes a fixed number of iterations, determined by the sequence length.\n",
        " *   Ideal for going through a known set of items (e.g., processing each item in a list)\n",
        "\n",
        "\n"
<<<<<<< HEAD
      ]
    },
    {
      "cell_type": "markdown",
      "metadata": {
        "id": "XZvKtrxrAJVM"
      },
      "source": [
        "-"
      ]
=======
      ],
      "metadata": {
        "id": "ce1PB-8b9VqB"
      }
    },
    {
      "cell_type": "markdown",
      "source": [
        "-"
      ],
      "metadata": {
        "id": "XZvKtrxrAJVM"
      }
>>>>>>> 07f71e3aaf27ce1a0d5a65814cbb1e5090e9731a
    },
    {
      "cell_type": "markdown",
      "metadata": {
        "id": "FGXwBeXB0YPz"
      },
      "source": [
        "**Loop Control Statements**"
      ]
    },
    {
      "cell_type": "markdown",
<<<<<<< HEAD
      "metadata": {
        "id": "sCpsVsMz9OJj"
      },
=======
>>>>>>> 07f71e3aaf27ce1a0d5a65814cbb1e5090e9731a
      "source": [
        "The following commands help you manage **loops**, which are **like instructions that repeat until you tell them to stop.**\n",
        "\n",
        "\n",
        "1. Break statement\n",
        "2. Continue statement\n",
        "3. Pass statement\n",
        "\n",
        "\n",
        "*   **Break**: This command stops the loop completely. You use it when you want to exit the loop early, like if you found what you were looking for or if something isn’t right.\n",
        "\n",
        "*   **Continue**: This command tells the loop to skip the rest of the current step and jump straight to the next round of instructions. You use it when you want to move on without finishing what was just started.\n",
        "\n",
        "*   **Pass**: This command tells the loop to skip the current step without doing anything and move on to the next one. You might use it when you want to ignore a certain part of the loop but still keep the loop going.\n",
        "\n",
        "\n",
        "\n",
        "\n",
        "\n",
        "\n",
        "\n",
        "\n",
        "\n",
        "\n",
        "They are mostly used to improve efficiency of the loop."
<<<<<<< HEAD
      ]
    },
    {
      "cell_type": "markdown",
      "metadata": {
        "id": "3jwkcz2s5Cur"
      },
      "source": [
        "Break statement: When external condition is triggered, you can exit the loop"
      ]
=======
      ],
      "metadata": {
        "id": "sCpsVsMz9OJj"
      }
    },
    {
      "cell_type": "markdown",
      "source": [
        "Break statement: When external condition is triggered, you can exit the loop"
      ],
      "metadata": {
        "id": "3jwkcz2s5Cur"
      }
>>>>>>> 07f71e3aaf27ce1a0d5a65814cbb1e5090e9731a
    },
    {
      "cell_type": "code",
      "execution_count": null,
      "metadata": {
<<<<<<< HEAD
        "colab": {
          "base_uri": "https://localhost:8080/"
        },
        "id": "nS2GB7vh0YPz",
=======
        "id": "nS2GB7vh0YPz",
        "colab": {
          "base_uri": "https://localhost:8080/"
        },
>>>>>>> 07f71e3aaf27ce1a0d5a65814cbb1e5090e9731a
        "outputId": "bdcac53b-c405-4882-c40c-0dbf10a10adb"
      },
      "outputs": [
        {
<<<<<<< HEAD
          "name": "stdout",
          "output_type": "stream",
=======
          "output_type": "stream",
          "name": "stdout",
>>>>>>> 07f71e3aaf27ce1a0d5a65814cbb1e5090e9731a
          "text": [
            "1\n",
            "2\n",
            "3\n",
            "4\n",
            "5\n",
            "6\n",
            "7\n",
            "8\n",
            "9\n",
            "10\n",
            "The while loop ends here\n"
          ]
        }
      ],
      "source": [
        "# This is a while loop that prints numbers from 1 to 100.\n",
        "# The loop continues as long as n is less than or equal to 100.\n",
        "\n",
        "  # Initialize n to 1\n",
        "  # The loop will continue while n is less than or equal to 100\n",
        "    # Print the current value of n\n",
        "      # Increment n by 1\n",
        "     # If n is greater than 10, exit the loop\n",
        "         # Exit the loop\n",
        "\n",
        "print(\"The while loop ends here\")  # Indicate that the loop has finished"
      ]
    },
    {
      "cell_type": "markdown",
      "metadata": {
        "id": "zwNaJQTz0YPz"
      },
      "source": [
        "Continue Statement: When the external condition is triggered, you can skip over that part of the loop to complete the loop"
      ]
    },
    {
      "cell_type": "code",
      "execution_count": null,
      "metadata": {
<<<<<<< HEAD
        "colab": {
          "base_uri": "https://localhost:8080/"
        },
        "id": "ZIJIIRSS0YPz",
=======
        "id": "ZIJIIRSS0YPz",
        "colab": {
          "base_uri": "https://localhost:8080/"
        },
>>>>>>> 07f71e3aaf27ce1a0d5a65814cbb1e5090e9731a
        "outputId": "a37eaa09-60d1-444c-93a0-4302d4eef964"
      },
      "outputs": [
        {
<<<<<<< HEAD
          "name": "stdout",
          "output_type": "stream",
=======
          "output_type": "stream",
          "name": "stdout",
>>>>>>> 07f71e3aaf27ce1a0d5a65814cbb1e5090e9731a
          "text": [
            "Printed number: 0\n",
            "Printed number: 1\n",
            "Printed number: 2\n",
            "Printed number: 3\n",
            "Printed number: 5\n",
            "Loop ends here\n"
          ]
        }
      ],
      "source": [
        "# This is a for loop that iterates through numbers from 0 to 5.\n",
        "\n",
        "  # Loop through numbers 0 to 5\n",
        "     # If the current number is 4, skip to the next iteration\n",
        "\n",
        "      # Print the current number\n",
        "\n",
        "print(\"Loop ends here\")  # Indicate that the loop has finished"
      ]
    },
    {
      "cell_type": "markdown",
      "metadata": {
        "id": "LJ4kduRV0YPz"
      },
      "source": [
        "Pass Statement"
      ]
    },
    {
      "cell_type": "code",
      "execution_count": null,
      "metadata": {
<<<<<<< HEAD
        "colab": {
          "base_uri": "https://localhost:8080/"
        },
        "id": "QXb_9S0V0YP0",
=======
        "id": "QXb_9S0V0YP0",
        "colab": {
          "base_uri": "https://localhost:8080/"
        },
>>>>>>> 07f71e3aaf27ce1a0d5a65814cbb1e5090e9731a
        "outputId": "67ee28e2-bd40-41d8-f89b-277a931060b1"
      },
      "outputs": [
        {
<<<<<<< HEAD
          "name": "stdout",
          "output_type": "stream",
=======
          "output_type": "stream",
          "name": "stdout",
>>>>>>> 07f71e3aaf27ce1a0d5a65814cbb1e5090e9731a
          "text": [
            "Printed number is: 0\n",
            "Printed number is: 1\n",
            "Printed number is: 2\n",
            "Printed number is: 3\n",
            "Printed number is: 4\n",
            "Printed number is: 5\n",
            "Out of loop\n"
          ]
        }
      ],
      "source": [
        "# This is a for loop that iterates through numbers from 0 to 5.\n",
        "\n",
        "  # Loop through numbers 0 to 5\n",
        "      # If the current number is 4, do nothing\n",
        "          # This means to skip any action for this iteration\n",
        "      # Print the current number\n",
        "\n",
        "print(\"Out of loop\")  # Indicate that the loop has finished"
      ]
    },
    {
      "cell_type": "code",
<<<<<<< HEAD
      "execution_count": null,
=======
      "source": [
        "#using len with index\n",
        "list_a = [\"hi\",\"my\",\"name\",\"is\",\"Jeff\",\"Phone no:\",12345678]\n",
        "\n",
        "  print(i)\n",
        "  print(list_a[i])"
      ],
>>>>>>> 07f71e3aaf27ce1a0d5a65814cbb1e5090e9731a
      "metadata": {
        "colab": {
          "base_uri": "https://localhost:8080/"
        },
        "id": "DpCbYuSPecq3",
        "outputId": "f71039ed-6de9-4aff-eb70-fccf1188e389"
      },
<<<<<<< HEAD
      "outputs": [
        {
          "name": "stdout",
          "output_type": "stream",
=======
      "execution_count": null,
      "outputs": [
        {
          "output_type": "stream",
          "name": "stdout",
>>>>>>> 07f71e3aaf27ce1a0d5a65814cbb1e5090e9731a
          "text": [
            "0\n",
            "hi\n",
            "1\n",
            "my\n",
            "2\n",
            "name\n",
            "3\n",
            "is\n",
            "4\n",
            "Jeff\n",
            "5\n",
            "Phone no:\n",
            "6\n",
            "12345678\n"
          ]
        }
<<<<<<< HEAD
      ],
      "source": [
        "#using len with index\n",
        "list_a = [\"hi\",\"my\",\"name\",\"is\",\"Jeff\",\"Phone no:\",12345678]\n",
        "\n",
        "  print(i)\n",
        "  print(list_a[i])"
=======
>>>>>>> 07f71e3aaf27ce1a0d5a65814cbb1e5090e9731a
      ]
    },
    {
      "cell_type": "markdown",
<<<<<<< HEAD
      "metadata": {
        "id": "2NQVOc-m7ylJ"
      },
      "source": [
        "## Exploring Dictionaries in Depth"
      ]
=======
      "source": [
        "## Exploring Dictionaries in Depth"
      ],
      "metadata": {
        "id": "2NQVOc-m7ylJ"
      }
>>>>>>> 07f71e3aaf27ce1a0d5a65814cbb1e5090e9731a
    },
    {
      "cell_type": "markdown",
      "metadata": {
        "id": "AC6ybA0w0YP4"
      },
      "source": [
        "###Getting All Keys and Values"
      ]
    },
    {
      "cell_type": "code",
      "execution_count": null,
      "metadata": {
<<<<<<< HEAD
        "colab": {
          "base_uri": "https://localhost:8080/"
        },
        "id": "__4K12mg0YP4",
=======
        "id": "__4K12mg0YP4",
        "colab": {
          "base_uri": "https://localhost:8080/"
        },
>>>>>>> 07f71e3aaf27ce1a0d5a65814cbb1e5090e9731a
        "outputId": "d0dd64fc-d44d-4aff-b761-b7c9e80de886"
      },
      "outputs": [
        {
<<<<<<< HEAD
          "name": "stdout",
          "output_type": "stream",
=======
          "output_type": "stream",
          "name": "stdout",
>>>>>>> 07f71e3aaf27ce1a0d5a65814cbb1e5090e9731a
          "text": [
            "dict_keys(['first_name', 'last_name', 'age', 'tattoos'])\n",
            "dict_values(['Kaavya', 'M', 22, False])\n"
          ]
        }
      ],
      "source": [
        "# Now let's retrieve all keys from the your dictionary you created in the beginning\n",
        "\n",
        "\n",
        "print(keys)\n",
        "\n",
        "# Retrieving all values from the Kaavya dictionary\n",
        "values\n",
        "\n",
        "print(values)"
      ]
    },
    {
      "cell_type": "code",
      "execution_count": null,
      "metadata": {
<<<<<<< HEAD
        "colab": {
          "base_uri": "https://localhost:8080/"
        },
        "id": "P-I18FlJ0YP5",
=======
        "id": "P-I18FlJ0YP5",
        "colab": {
          "base_uri": "https://localhost:8080/"
        },
>>>>>>> 07f71e3aaf27ce1a0d5a65814cbb1e5090e9731a
        "outputId": "f14e9891-dfc7-4a97-a0f0-8ae50ee10c9d"
      },
      "outputs": [
        {
<<<<<<< HEAD
          "name": "stdout",
          "output_type": "stream",
=======
          "output_type": "stream",
          "name": "stdout",
>>>>>>> 07f71e3aaf27ce1a0d5a65814cbb1e5090e9731a
          "text": [
            "key = first_name, value = Kaavya\n",
            "key = last_name, value = M\n",
            "key = age, value = 22\n",
            "key = tattoos, value = False\n"
          ]
        }
      ],
      "source": [
        "# Iterating through keys and values in the Kaavya dictionary\n",
        "\n",
        "\n",
        "    # Print the current key and its corresponding value\n",
        "    print(\"key = {0}, value = {1}\".format(key, value))"
      ]
    },
    {
      "cell_type": "code",
      "execution_count": null,
      "metadata": {
<<<<<<< HEAD
        "colab": {
          "base_uri": "https://localhost:8080/"
        },
        "id": "myq6oC8H0YP5",
=======
        "id": "myq6oC8H0YP5",
        "colab": {
          "base_uri": "https://localhost:8080/"
        },
>>>>>>> 07f71e3aaf27ce1a0d5a65814cbb1e5090e9731a
        "outputId": "9eb38aeb-8070-4028-f721-cbf820687adb"
      },
      "outputs": [
        {
<<<<<<< HEAD
          "name": "stdout",
          "output_type": "stream",
=======
          "output_type": "stream",
          "name": "stdout",
>>>>>>> 07f71e3aaf27ce1a0d5a65814cbb1e5090e9731a
          "text": [
            "{'name': 'Ryan', 'grade': 12, 'score': {'english': 87, 'math': 90, 'science': 95, 'mother tongue': 55}}\n",
            "dict_keys(['english', 'math', 'science', 'mother tongue'])\n"
          ]
        }
      ],
      "source": [
        "# Let's create a dictionary to store student information with nested keys for scores\n",
        "\n",
        "sch_rec = {\n",
        "    \"name\": \"Ryan\",\n",
        "    \"grade\": 12,\n",
        "    \"score\": {\n",
        "        \"english\": 87,\n",
        "        \"math\": 90,\n",
        "        \"science\": 95,\n",
        "        \"mother tongue\": 55\n",
        "    }\n",
        "}\n",
        "\n",
        "print(sch_rec)\n",
        "\n",
        "# Accessing nested keys to retrieve the keys from the 'score' dictionary\n",
        "keys_nested =\n",
        "\n",
        "print(keys_nested)\n"
      ]
    },
    {
      "cell_type": "code",
<<<<<<< HEAD
      "execution_count": null,
      "metadata": {
        "colab": {
          "base_uri": "https://localhost:8080/"
        },
        "id": "0r2n_xzbgoEm",
        "outputId": "2d6358aa-ba02-4ac1-976d-6c1a8394d39a"
      },
      "outputs": [
        {
          "data": {
            "text/plain": [
              "dict_items([('001', {'name': 'Ryan', 'grade': 12, 'avg_score': 95}), ('002', {'name': 'Jaslyn', 'grade': 12, 'avg_score': 90}), ('003', {'name': 'Ronald', 'grade': 10, 'avg_score': 55}), ('004', {'name': 'Chad', 'grade': 9, 'avg_score': 67}), ('005', {'name': 'Joyce', 'grade': 8, 'avg_score': 82.5}), ('006', {'name': 'Amanda', 'grade': 11, 'avg_score': 98})])"
            ]
          },
          "execution_count": 34,
          "metadata": {},
          "output_type": "execute_result"
        }
      ],
=======
>>>>>>> 07f71e3aaf27ce1a0d5a65814cbb1e5090e9731a
      "source": [
        "#Using Items function to get an overview\n",
        "sch_rec2 = {\n",
        "    '001':{\"name\":\"Ryan\", \"grade\": 12, \"avg_score\": 95},\n",
        "    '002':{\"name\":\"Jaslyn\", \"grade\": 12, \"avg_score\": 90},\n",
        "    '003':{\"name\":\"Ronald\", \"grade\": 10, \"avg_score\": 55},\n",
        "    '004':{\"name\":\"Chad\", \"grade\": 9, \"avg_score\": 67},\n",
        "    '005':{\"name\":\"Joyce\", \"grade\": 8, \"avg_score\": 82.5},\n",
        "    '006':{\"name\":\"Amanda\", \"grade\": 11, \"avg_score\": 98}\n",
        "}\n",
        "\n",
        "#items function\n"
<<<<<<< HEAD
=======
      ],
      "metadata": {
        "colab": {
          "base_uri": "https://localhost:8080/"
        },
        "id": "0r2n_xzbgoEm",
        "outputId": "2d6358aa-ba02-4ac1-976d-6c1a8394d39a"
      },
      "execution_count": null,
      "outputs": [
        {
          "output_type": "execute_result",
          "data": {
            "text/plain": [
              "dict_items([('001', {'name': 'Ryan', 'grade': 12, 'avg_score': 95}), ('002', {'name': 'Jaslyn', 'grade': 12, 'avg_score': 90}), ('003', {'name': 'Ronald', 'grade': 10, 'avg_score': 55}), ('004', {'name': 'Chad', 'grade': 9, 'avg_score': 67}), ('005', {'name': 'Joyce', 'grade': 8, 'avg_score': 82.5}), ('006', {'name': 'Amanda', 'grade': 11, 'avg_score': 98})])"
            ]
          },
          "metadata": {},
          "execution_count": 34
        }
>>>>>>> 07f71e3aaf27ce1a0d5a65814cbb1e5090e9731a
      ]
    },
    {
      "cell_type": "markdown",
<<<<<<< HEAD
      "metadata": {
        "id": "6u4BwAFLiNa-"
      },
      "source": [
        "### Presentation of the Information in the Dictionary"
      ]
    },
    {
      "cell_type": "code",
      "execution_count": null,
=======
      "source": [
        "### Presentation of the Information in the Dictionary"
      ],
      "metadata": {
        "id": "6u4BwAFLiNa-"
      }
    },
    {
      "cell_type": "code",
      "source": [
        "#Let's present info in dict with double loops\n",
        "# e.g id = '001', and the corresponding info and so on. (Refer to the code on top to understand what sch_rec2.items() shows)\n",
        "\n",
        "\n",
        "\n",
        ""
      ],
>>>>>>> 07f71e3aaf27ce1a0d5a65814cbb1e5090e9731a
      "metadata": {
        "colab": {
          "base_uri": "https://localhost:8080/"
        },
        "id": "iDZYG4W2hFIw",
        "outputId": "c984255d-0eed-418c-f9c3-813739d4d816"
      },
<<<<<<< HEAD
      "outputs": [
        {
          "name": "stdout",
          "output_type": "stream",
=======
      "execution_count": null,
      "outputs": [
        {
          "output_type": "stream",
          "name": "stdout",
>>>>>>> 07f71e3aaf27ce1a0d5a65814cbb1e5090e9731a
          "text": [
            "\n",
            "Student ID: 001\n",
            "name: Ryan\n",
            "grade: 12\n",
            "avg_score: 95\n",
            "\n",
            "Student ID: 002\n",
            "name: Jaslyn\n",
            "grade: 12\n",
            "avg_score: 90\n",
            "\n",
            "Student ID: 003\n",
            "name: Ronald\n",
            "grade: 10\n",
            "avg_score: 55\n",
            "\n",
            "Student ID: 004\n",
            "name: Chad\n",
            "grade: 9\n",
            "avg_score: 67\n",
            "\n",
            "Student ID: 005\n",
            "name: Joyce\n",
            "grade: 8\n",
            "avg_score: 82.5\n",
            "\n",
            "Student ID: 006\n",
            "name: Amanda\n",
            "grade: 11\n",
            "avg_score: 98\n"
          ]
        }
<<<<<<< HEAD
      ],
      "source": [
        "#Let's present info in dict with double loops\n",
        "# e.g id = '001', and the corresponding info and so on. (Refer to the code on top to understand what sch_rec2.items() shows)\n",
        "\n",
        "\n",
        "\n"
=======
>>>>>>> 07f71e3aaf27ce1a0d5a65814cbb1e5090e9731a
      ]
    },
    {
      "cell_type": "code",
<<<<<<< HEAD
      "execution_count": null,
      "metadata": {
        "id": "mOget1_biG5b"
      },
      "outputs": [],
=======
>>>>>>> 07f71e3aaf27ce1a0d5a65814cbb1e5090e9731a
      "source": [
        "# For QOL (Quality of Life) purposes, let's store Richard's details in a dictionary. In programming, it refers to small improvements that make code easier to read, use, or maintain, without changing its core function.\n",
        "Richard = {\n",
        "    \"first_name\": \"Richard\",  # First name of the individual\n",
        "    \"last_name\": \"Anderson\",  # Last name of the individual\n",
        "    \"age\": 45,                # Age of the individual\n",
        "    \"tattoos\": True           # Whether the individual has tattoos (boolean value)\n",
        "}\n"
<<<<<<< HEAD
      ]
    },
    {
      "cell_type": "code",
      "execution_count": null,
      "metadata": {
        "colab": {
          "base_uri": "https://localhost:8080/"
        },
        "id": "WlbQh5IGibTU",
        "outputId": "4adbc244-dbc1-4db2-d841-620339252496"
      },
      "outputs": [
        {
          "name": "stdout",
          "output_type": "stream",
          "text": [
            "Anderson\n",
            "Todd\n"
          ]
        }
      ],
=======
      ],
      "metadata": {
        "id": "mOget1_biG5b"
      },
      "execution_count": null,
      "outputs": []
    },
    {
      "cell_type": "code",
>>>>>>> 07f71e3aaf27ce1a0d5a65814cbb1e5090e9731a
      "source": [
        "# Retrieve and print the current value of \"last_name\"\n",
        "\n",
        "# Change the \"last_name\" key value to \"Todd\"\n",
        "\n",
        "\n",
        "# Retrieve and print the updated value of \"last_name\"\n"
<<<<<<< HEAD
      ]
    },
    {
      "cell_type": "code",
      "execution_count": null,
=======
      ],
>>>>>>> 07f71e3aaf27ce1a0d5a65814cbb1e5090e9731a
      "metadata": {
        "colab": {
          "base_uri": "https://localhost:8080/"
        },
<<<<<<< HEAD
        "id": "qJSq8f4Xiecy",
        "outputId": "ec6aebbd-5217-4a06-ba70-29b22db44e7a"
      },
      "outputs": [
        {
          "name": "stdout",
          "output_type": "stream",
          "text": [
            "Ryan\n",
            "Ryan Tan\n"
          ]
        }
      ],
=======
        "id": "WlbQh5IGibTU",
        "outputId": "4adbc244-dbc1-4db2-d841-620339252496"
      },
      "execution_count": null,
      "outputs": [
        {
          "output_type": "stream",
          "name": "stdout",
          "text": [
            "Anderson\n",
            "Todd\n"
          ]
        }
      ]
    },
    {
      "cell_type": "code",
>>>>>>> 07f71e3aaf27ce1a0d5a65814cbb1e5090e9731a
      "source": [
        "# Access and print the current value of 'name' in the nested dictionary with key '001'\n",
        "\n",
        "\n",
        "# Change the 'name' value inside the nested dictionary\n",
        "\n",
        "\n",
        "print()"
<<<<<<< HEAD
=======
      ],
      "metadata": {
        "colab": {
          "base_uri": "https://localhost:8080/"
        },
        "id": "qJSq8f4Xiecy",
        "outputId": "ec6aebbd-5217-4a06-ba70-29b22db44e7a"
      },
      "execution_count": null,
      "outputs": [
        {
          "output_type": "stream",
          "name": "stdout",
          "text": [
            "Ryan\n",
            "Ryan Tan\n"
          ]
        }
>>>>>>> 07f71e3aaf27ce1a0d5a65814cbb1e5090e9731a
      ]
    },
    {
      "cell_type": "markdown",
<<<<<<< HEAD
      "metadata": {
        "id": "o0Bi6lLBinLD"
      },
      "source": [
        "###Adding a new key-value pair in a dictionary"
      ]
    },
    {
      "cell_type": "markdown",
      "metadata": {
        "id": "-mqx9Rbii5Ds"
      },
      "source": [
        "#### For Regular Dictionary case"
      ]
    },
    {
      "cell_type": "code",
      "execution_count": null,
=======
      "source": [
        "###Adding a new key-value pair in a dictionary"
      ],
      "metadata": {
        "id": "o0Bi6lLBinLD"
      }
    },
    {
      "cell_type": "markdown",
      "source": [
        "#### For Regular Dictionary case"
      ],
      "metadata": {
        "id": "-mqx9Rbii5Ds"
      }
    },
    {
      "cell_type": "code",
      "source": [
        "#Before alteration\n"
      ],
>>>>>>> 07f71e3aaf27ce1a0d5a65814cbb1e5090e9731a
      "metadata": {
        "colab": {
          "base_uri": "https://localhost:8080/"
        },
        "id": "Xi2h_K37iu2r",
        "outputId": "5757240b-4d03-4dcc-f893-9b2aa07c1450"
      },
<<<<<<< HEAD
      "outputs": [
        {
          "name": "stdout",
          "output_type": "stream",
=======
      "execution_count": null,
      "outputs": [
        {
          "output_type": "stream",
          "name": "stdout",
>>>>>>> 07f71e3aaf27ce1a0d5a65814cbb1e5090e9731a
          "text": [
            "Before Alteration:  {'first_name': 'Richard', 'last_name': 'Todd', 'age': 45, 'tattoos': True}\n"
          ]
        }
<<<<<<< HEAD
      ],
      "source": [
        "#Before alteration\n"
=======
>>>>>>> 07f71e3aaf27ce1a0d5a65814cbb1e5090e9731a
      ]
    },
    {
      "cell_type": "code",
<<<<<<< HEAD
      "execution_count": null,
      "metadata": {
        "id": "QzUgpFMUi9AS"
      },
      "outputs": [],
      "source": [
        "#Alteration: Let's add his email\n"
      ]
    },
    {
      "cell_type": "code",
      "execution_count": null,
=======
      "source": [
        "#Alteration: Let's add his email\n"
      ],
      "metadata": {
        "id": "QzUgpFMUi9AS"
      },
      "execution_count": null,
      "outputs": []
    },
    {
      "cell_type": "code",
      "source": [
        "#After alteration\n"
      ],
>>>>>>> 07f71e3aaf27ce1a0d5a65814cbb1e5090e9731a
      "metadata": {
        "colab": {
          "base_uri": "https://localhost:8080/"
        },
        "id": "wsaqtMTQjAUY",
        "outputId": "a5d2d7c1-e0ff-492b-d159-3470a7b3091c"
      },
<<<<<<< HEAD
      "outputs": [
        {
          "name": "stdout",
          "output_type": "stream",
=======
      "execution_count": null,
      "outputs": [
        {
          "output_type": "stream",
          "name": "stdout",
>>>>>>> 07f71e3aaf27ce1a0d5a65814cbb1e5090e9731a
          "text": [
            "After Alteration:  {'first_name': 'Richard', 'last_name': 'Todd', 'age': 45, 'tattoos': True, 'email': 'richard148@gmail.com'}\n"
          ]
        }
<<<<<<< HEAD
      ],
      "source": [
        "#After alteration\n"
=======
>>>>>>> 07f71e3aaf27ce1a0d5a65814cbb1e5090e9731a
      ]
    },
    {
      "cell_type": "markdown",
<<<<<<< HEAD
      "metadata": {
        "id": "FCi2bN-ljEVg"
      },
      "source": [
        "#### For Regular Dictionary case"
      ]
    },
    {
      "cell_type": "code",
      "execution_count": null,
=======
      "source": [
        "#### For Regular Dictionary case"
      ],
      "metadata": {
        "id": "FCi2bN-ljEVg"
      }
    },
    {
      "cell_type": "code",
      "source": [
        "#Before alteration\n",
        "print(\"Before alteration: \",sch_rec2)"
      ],
>>>>>>> 07f71e3aaf27ce1a0d5a65814cbb1e5090e9731a
      "metadata": {
        "colab": {
          "base_uri": "https://localhost:8080/"
        },
        "id": "j9tErtKUjH67",
        "outputId": "90cc7003-3a2f-42c0-b7db-f8c9e4618233"
      },
<<<<<<< HEAD
      "outputs": [
        {
          "name": "stdout",
          "output_type": "stream",
=======
      "execution_count": null,
      "outputs": [
        {
          "output_type": "stream",
          "name": "stdout",
>>>>>>> 07f71e3aaf27ce1a0d5a65814cbb1e5090e9731a
          "text": [
            "Before alteration:  {'001': {'name': 'Ryan Tan', 'grade': 12, 'avg_score': 95}, '002': {'name': 'Jaslyn', 'grade': 12, 'avg_score': 90}, '003': {'name': 'Ronald', 'grade': 10, 'avg_score': 55}, '004': {'name': 'Chad', 'grade': 9, 'avg_score': 67}, '005': {'name': 'Joyce', 'grade': 8, 'avg_score': 82.5}, '006': {'name': 'Amanda', 'grade': 11, 'avg_score': 98}}\n"
          ]
        }
<<<<<<< HEAD
      ],
      "source": [
        "#Before alteration\n",
        "print(\"Before alteration: \",sch_rec2)"
=======
>>>>>>> 07f71e3aaf27ce1a0d5a65814cbb1e5090e9731a
      ]
    },
    {
      "cell_type": "code",
<<<<<<< HEAD
      "execution_count": null,
      "metadata": {
        "colab": {
          "base_uri": "https://localhost:8080/"
        },
        "id": "xUolvyixjMhS",
        "outputId": "e9012761-8825-4c65-b2ba-0fe7a001cc5a"
      },
      "outputs": [
        {
          "name": "stdout",
          "output_type": "stream",
          "text": [
            "After alteration:  {'001': {'name': 'Ryan Tan', 'grade': 12, 'avg_score': 95, 'email': 'rand001@gmail.com'}, '002': {'name': 'Jaslyn', 'grade': 12, 'avg_score': 90, 'email': 'rand002@gmail.com'}, '003': {'name': 'Ronald', 'grade': 10, 'avg_score': 55, 'email': 'rand003@gmail.com'}, '004': {'name': 'Chad', 'grade': 9, 'avg_score': 67, 'email': 'rand004@gmail.com'}, '005': {'name': 'Joyce', 'grade': 8, 'avg_score': 82.5, 'email': 'rand005@gmail.com'}, '006': {'name': 'Amanda', 'grade': 11, 'avg_score': 98, 'email': 'rand006@gmail.com'}}\n"
          ]
        }
      ],
=======
>>>>>>> 07f71e3aaf27ce1a0d5a65814cbb1e5090e9731a
      "source": [
        "#Alteration\n",
        "sch_rec2['001']['email']='rand001@gmail.com'\n",
        "sch_rec2['002']['email']='rand002@gmail.com'\n",
        "sch_rec2['003']['email']='rand003@gmail.com'\n",
        "sch_rec2['004']['email']='rand004@gmail.com'\n",
        "sch_rec2['005']['email']='rand005@gmail.com'\n",
        "sch_rec2['006']['email']='rand006@gmail.com'\n",
        "\n",
        "print(\"After alteration: \",sch_rec2)"
<<<<<<< HEAD
      ]
    },
    {
      "cell_type": "markdown",
      "metadata": {
        "id": "v-wel_xujS9C"
      },
      "source": [
        "### Deleting key-value pair in a dictionary"
      ]
    },
    {
      "cell_type": "markdown",
      "metadata": {
        "id": "2TMGCbNdjfVZ"
      },
      "source": [
        "#### For Regular Dictionary case"
      ]
    },
    {
      "cell_type": "code",
      "execution_count": null,
=======
      ],
>>>>>>> 07f71e3aaf27ce1a0d5a65814cbb1e5090e9731a
      "metadata": {
        "colab": {
          "base_uri": "https://localhost:8080/"
        },
<<<<<<< HEAD
        "id": "Eawy0hEnje8_",
        "outputId": "e0176c4b-50db-40d9-987d-93467b3a0e76"
      },
      "outputs": [
        {
          "name": "stdout",
          "output_type": "stream",
          "text": [
            "Before alteration:  {'first_name': 'Richard', 'last_name': 'Todd', 'age': 45, 'tattoos': True, 'email': 'richard148@gmail.com'}\n",
            "After alteration:  {'first_name': 'Richard', 'last_name': 'Todd', 'age': 45, 'tattoos': True}\n"
          ]
        }
      ],
=======
        "id": "xUolvyixjMhS",
        "outputId": "e9012761-8825-4c65-b2ba-0fe7a001cc5a"
      },
      "execution_count": null,
      "outputs": [
        {
          "output_type": "stream",
          "name": "stdout",
          "text": [
            "After alteration:  {'001': {'name': 'Ryan Tan', 'grade': 12, 'avg_score': 95, 'email': 'rand001@gmail.com'}, '002': {'name': 'Jaslyn', 'grade': 12, 'avg_score': 90, 'email': 'rand002@gmail.com'}, '003': {'name': 'Ronald', 'grade': 10, 'avg_score': 55, 'email': 'rand003@gmail.com'}, '004': {'name': 'Chad', 'grade': 9, 'avg_score': 67, 'email': 'rand004@gmail.com'}, '005': {'name': 'Joyce', 'grade': 8, 'avg_score': 82.5, 'email': 'rand005@gmail.com'}, '006': {'name': 'Amanda', 'grade': 11, 'avg_score': 98, 'email': 'rand006@gmail.com'}}\n"
          ]
        }
      ]
    },
    {
      "cell_type": "markdown",
      "source": [
        "### Deleting key-value pair in a dictionary"
      ],
      "metadata": {
        "id": "v-wel_xujS9C"
      }
    },
    {
      "cell_type": "markdown",
      "source": [
        "#### For Regular Dictionary case"
      ],
      "metadata": {
        "id": "2TMGCbNdjfVZ"
      }
    },
    {
      "cell_type": "code",
>>>>>>> 07f71e3aaf27ce1a0d5a65814cbb1e5090e9731a
      "source": [
        "#Before alteration\n",
        "print(\"Before alteration: \",Richard)\n",
        "\n",
        "#Alteration: Let's delete his email\n",
        "\n",
        "\n",
        "#After alteration\n"
<<<<<<< HEAD
      ]
    },
    {
      "cell_type": "markdown",
      "metadata": {
        "id": "7VxVtdJHjsRR"
      },
      "source": [
        "#### For Nested Dictionary case"
      ]
    },
    {
      "cell_type": "code",
      "execution_count": null,
=======
      ],
>>>>>>> 07f71e3aaf27ce1a0d5a65814cbb1e5090e9731a
      "metadata": {
        "colab": {
          "base_uri": "https://localhost:8080/"
        },
<<<<<<< HEAD
        "id": "4JJMib4YjwPM",
        "outputId": "bdb80861-81dd-4149-a712-8a7ad3c1ab94"
      },
      "outputs": [
        {
          "name": "stdout",
          "output_type": "stream",
          "text": [
            "Before alteration:  {'001': {'name': 'Ryan Tan', 'grade': 12, 'avg_score': 95, 'email': 'rand001@gmail.com'}, '002': {'name': 'Jaslyn', 'grade': 12, 'avg_score': 90, 'email': 'rand002@gmail.com'}, '003': {'name': 'Ronald', 'grade': 10, 'avg_score': 55, 'email': 'rand003@gmail.com'}, '004': {'name': 'Chad', 'grade': 9, 'avg_score': 67, 'email': 'rand004@gmail.com'}, '005': {'name': 'Joyce', 'grade': 8, 'avg_score': 82.5, 'email': 'rand005@gmail.com'}, '006': {'name': 'Amanda', 'grade': 11, 'avg_score': 98, 'email': 'rand006@gmail.com'}}\n",
            "After alteration:  {'001': {'name': 'Ryan Tan', 'grade': 12, 'avg_score': 95}, '002': {'name': 'Jaslyn', 'grade': 12, 'avg_score': 90}, '003': {'name': 'Ronald', 'grade': 10, 'avg_score': 55}, '004': {'name': 'Chad', 'grade': 9, 'avg_score': 67}, '005': {'name': 'Joyce', 'grade': 8, 'avg_score': 82.5}, '006': {'name': 'Amanda', 'grade': 11, 'avg_score': 98}}\n"
          ]
        }
      ],
=======
        "id": "Eawy0hEnje8_",
        "outputId": "e0176c4b-50db-40d9-987d-93467b3a0e76"
      },
      "execution_count": null,
      "outputs": [
        {
          "output_type": "stream",
          "name": "stdout",
          "text": [
            "Before alteration:  {'first_name': 'Richard', 'last_name': 'Todd', 'age': 45, 'tattoos': True, 'email': 'richard148@gmail.com'}\n",
            "After alteration:  {'first_name': 'Richard', 'last_name': 'Todd', 'age': 45, 'tattoos': True}\n"
          ]
        }
      ]
    },
    {
      "cell_type": "markdown",
      "source": [
        "#### For Nested Dictionary case"
      ],
      "metadata": {
        "id": "7VxVtdJHjsRR"
      }
    },
    {
      "cell_type": "code",
>>>>>>> 07f71e3aaf27ce1a0d5a65814cbb1e5090e9731a
      "source": [
        "#Before alteration\n",
        "print(\"Before alteration: \",sch_rec2)\n",
        "\n",
        "#Alteration\n",
        "del sch_rec2['001']['email']\n",
        "del sch_rec2['002']['email']\n",
        "del sch_rec2['003']['email']\n",
        "del sch_rec2['004']['email']\n",
        "del sch_rec2['005']['email']\n",
        "del sch_rec2['006']['email']\n",
        "\n",
        "#After alteration\n",
        "print(\"After alteration: \",sch_rec2)"
<<<<<<< HEAD
=======
      ],
      "metadata": {
        "colab": {
          "base_uri": "https://localhost:8080/"
        },
        "id": "4JJMib4YjwPM",
        "outputId": "bdb80861-81dd-4149-a712-8a7ad3c1ab94"
      },
      "execution_count": null,
      "outputs": [
        {
          "output_type": "stream",
          "name": "stdout",
          "text": [
            "Before alteration:  {'001': {'name': 'Ryan Tan', 'grade': 12, 'avg_score': 95, 'email': 'rand001@gmail.com'}, '002': {'name': 'Jaslyn', 'grade': 12, 'avg_score': 90, 'email': 'rand002@gmail.com'}, '003': {'name': 'Ronald', 'grade': 10, 'avg_score': 55, 'email': 'rand003@gmail.com'}, '004': {'name': 'Chad', 'grade': 9, 'avg_score': 67, 'email': 'rand004@gmail.com'}, '005': {'name': 'Joyce', 'grade': 8, 'avg_score': 82.5, 'email': 'rand005@gmail.com'}, '006': {'name': 'Amanda', 'grade': 11, 'avg_score': 98, 'email': 'rand006@gmail.com'}}\n",
            "After alteration:  {'001': {'name': 'Ryan Tan', 'grade': 12, 'avg_score': 95}, '002': {'name': 'Jaslyn', 'grade': 12, 'avg_score': 90}, '003': {'name': 'Ronald', 'grade': 10, 'avg_score': 55}, '004': {'name': 'Chad', 'grade': 9, 'avg_score': 67}, '005': {'name': 'Joyce', 'grade': 8, 'avg_score': 82.5}, '006': {'name': 'Amanda', 'grade': 11, 'avg_score': 98}}\n"
          ]
        }
>>>>>>> 07f71e3aaf27ce1a0d5a65814cbb1e5090e9731a
      ]
    },
    {
      "cell_type": "markdown",
      "metadata": {
        "id": "qFwEZhNb0YP5"
      },
      "source": [
        "## Functions: Defining and Calling a Function\n",
        "\n",
        "1. A group of related statements that perform a specific task\n",
        "2. Helps break down the program into smaller modules rather than a lengthy set of code, which can be disorganized"
      ]
    },
    {
      "cell_type": "code",
      "execution_count": null,
      "metadata": {
<<<<<<< HEAD
        "colab": {
          "base_uri": "https://localhost:8080/"
        },
        "id": "SVRYJkNQ0YP5",
=======
        "id": "SVRYJkNQ0YP5",
        "colab": {
          "base_uri": "https://localhost:8080/"
        },
>>>>>>> 07f71e3aaf27ce1a0d5a65814cbb1e5090e9731a
        "outputId": "5bc84d8b-5bdc-4d74-c6d3-d09b55f21588"
      },
      "outputs": [
        {
<<<<<<< HEAD
          "name": "stdout",
          "output_type": "stream",
=======
          "output_type": "stream",
          "name": "stdout",
>>>>>>> 07f71e3aaf27ce1a0d5a65814cbb1e5090e9731a
          "text": [
            "12\n"
          ]
        }
      ],
      "source": [
        "# Let's start by defining a simple addition function\n",
        "\n",
        "\n",
        "    # Calculate the total by adding num1 and num2\n",
        "\n",
        "    # Return the total\n",
        "\n",
        "\n",
        "# Call the function with arguments 5 and 7\n",
        "\n",
        "\n"
      ]
    },
    {
      "cell_type": "markdown",
      "metadata": {
        "id": "KIdydWG_0YP5"
      },
      "source": [
        "Defining a Palindrome Function\n"
      ]
    },
    {
      "cell_type": "code",
      "execution_count": null,
      "metadata": {
<<<<<<< HEAD
        "colab": {
          "base_uri": "https://localhost:8080/"
        },
        "id": "VI0RbtUi0YP5",
=======
        "id": "VI0RbtUi0YP5",
        "colab": {
          "base_uri": "https://localhost:8080/"
        },
>>>>>>> 07f71e3aaf27ce1a0d5a65814cbb1e5090e9731a
        "outputId": "868f6975-723c-4d92-d964-0174e67e9580"
      },
      "outputs": [
        {
<<<<<<< HEAD
          "name": "stdout",
          "output_type": "stream",
=======
          "output_type": "stream",
          "name": "stdout",
>>>>>>> 07f71e3aaf27ce1a0d5a65814cbb1e5090e9731a
          "text": [
            "True\n"
          ]
        }
      ],
      "source": [
        "# Let's come up with a function to check if a word or phrase is a palindrome\n",
        "\n",
        "def is_palindrome(word):\n",
        "    # Convert the word to lowercase and remove spaces\n",
        "    word = word.lower().replace(\" \", \"\")\n",
        "    # Check if the word is the same when reversed\n",
        "    return word == word[::-1]\n",
        "\n",
        "# Check if \"taco cat\" is a palindrome\n",
        "print(is_palindrome(\"taco cat\"))\n",
        "\n",
        "# Your turn! Put in a word and check if it is a palindrome"
      ]
    },
    {
      "cell_type": "markdown",
      "metadata": {
        "id": "FH0YSenB0YP5"
      },
      "source": [
        "Magic 8-Ball Function\n",
        "\n"
      ]
    },
    {
      "cell_type": "code",
      "execution_count": null,
      "metadata": {
<<<<<<< HEAD
        "colab": {
          "base_uri": "https://localhost:8080/"
        },
        "id": "m4y0jhF_0YP5",
=======
        "id": "m4y0jhF_0YP5",
        "colab": {
          "base_uri": "https://localhost:8080/"
        },
>>>>>>> 07f71e3aaf27ce1a0d5a65814cbb1e5090e9731a
        "outputId": "1c0452f5-22d8-43ff-c3e8-7be3be975e2a"
      },
      "outputs": [
        {
<<<<<<< HEAD
          "name": "stdout",
          "output_type": "stream",
=======
          "output_type": "stream",
          "name": "stdout",
>>>>>>> 07f71e3aaf27ce1a0d5a65814cbb1e5090e9731a
          "text": [
            "Question: Is it worthwhile to join DAC?\n",
            "Magic 8-Ball says: Yes\n"
          ]
        }
      ],
      "source": [
        "import random  # Importing the random module to use for generating random responses\n",
        "\n",
        "# Function to simulate a magic 8-ball response\n",
        "def magic_8_ball():\n",
        "    # List of possible responses from the magic 8-ball\n",
        "    responses = [\n",
        "        \"Yes\", \"No\", \"It is certain\", \"Without a doubt\",\n",
        "        \"Reply hazy, try again\", \"Don't count on it\",\n",
        "        \"My sources say no\", \"Outlook not so good\", \"Very doubtful\",\n",
        "        \"You may rely on it\"\n",
        "    ]\n",
        "    # Return a random response from the list\n",
        "    return random.choice(responses)\n",
        "\n",
        "# Time for you to ask it a question!\n",
        "question = \"Is it worthwhile to join DAC?\"  # Define a question\n",
        "answer = magic_8_ball()  # Get a random response from the magic 8-ball\n",
        "print(f\"Question: {question}\")  # Print the question\n",
        "print(f\"Magic 8-Ball says: {answer}\")  # Print the answer\n"
      ]
    }
  ],
  "metadata": {
<<<<<<< HEAD
    "colab": {
      "provenance": []
    },
=======
>>>>>>> 07f71e3aaf27ce1a0d5a65814cbb1e5090e9731a
    "kernelspec": {
      "display_name": "Python 3",
      "language": "python",
      "name": "python3"
    },
    "language_info": {
      "codemirror_mode": {
        "name": "ipython",
        "version": 3
      },
      "file_extension": ".py",
      "mimetype": "text/x-python",
      "name": "python",
      "nbconvert_exporter": "python",
      "pygments_lexer": "ipython3",
      "version": "3.11.5"
<<<<<<< HEAD
=======
    },
    "colab": {
      "provenance": []
>>>>>>> 07f71e3aaf27ce1a0d5a65814cbb1e5090e9731a
    }
  },
  "nbformat": 4,
  "nbformat_minor": 0
<<<<<<< HEAD
}
=======
}
>>>>>>> 07f71e3aaf27ce1a0d5a65814cbb1e5090e9731a
