{
 "cells": [
  {
   "cell_type": "markdown",
   "metadata": {},
   "source": [
    "Question 1"
   ]
  },
  {
   "cell_type": "code",
   "execution_count": 7,
   "metadata": {},
   "outputs": [
    {
     "name": "stdout",
     "output_type": "stream",
     "text": [
      "['apple', 'orange', 'banana']\n",
      "['apple', 'orange', 'banana', 'tomato']\n",
      "['orange', 'banana', 'tomato']\n"
     ]
    }
   ],
   "source": [
    "#  Create a list named fruits with the items \"apple\", \"orange\", and \"banana\"\n",
    "\n",
    "Fruits = [\"apple\", \"orange\", \"banana\"]\n",
    "print(Fruits)\n",
    "\n",
    "# Add \"tomato\" to the end of the fruits list.\n",
    "\n",
    "Fruits.append(\"tomato\")\n",
    "print(Fruits)\n",
    "\n",
    "# Remove \"apple\" from the fruits list.\n",
    "\n",
    "Fruits.remove(\"apple\")\n",
    "print(Fruits)"
   ]
  },
  {
   "cell_type": "markdown",
   "metadata": {},
   "source": [
    "Question 2"
   ]
  },
  {
   "cell_type": "code",
   "execution_count": 8,
   "metadata": {},
   "outputs": [
    {
     "name": "stdout",
     "output_type": "stream",
     "text": [
      "('physics', 'chemistry', 'english', 'math', 'biology')\n"
     ]
    },
    {
     "ename": "AttributeError",
     "evalue": "'tuple' object has no attribute 'append'",
     "output_type": "error",
     "traceback": [
      "\u001b[1;31m---------------------------------------------------------------------------\u001b[0m",
      "\u001b[1;31mAttributeError\u001b[0m                            Traceback (most recent call last)",
      "Cell \u001b[1;32mIn[8], line 8\u001b[0m\n\u001b[0;32m      4\u001b[0m \u001b[38;5;28mprint\u001b[39m(subjects)\n\u001b[0;32m      6\u001b[0m \u001b[38;5;66;03m# Attempt to append \"literature\" to the tuple and observe the result. Suggest an alternative way to add an element to a tuple. \u001b[39;00m\n\u001b[1;32m----> 8\u001b[0m \u001b[43msubjects\u001b[49m\u001b[38;5;241;43m.\u001b[39;49m\u001b[43mappend\u001b[49m(\u001b[38;5;124m\"\u001b[39m\u001b[38;5;124mlitreature\u001b[39m\u001b[38;5;124m\"\u001b[39m)\n\u001b[0;32m      9\u001b[0m \u001b[38;5;28mprint\u001b[39m(subjects)\n\u001b[0;32m     11\u001b[0m \u001b[38;5;66;03m# Alternative way is to create a tuplelist and append it\u001b[39;00m\n",
      "\u001b[1;31mAttributeError\u001b[0m: 'tuple' object has no attribute 'append'"
     ]
    }
   ],
   "source": [
    "# Create a tuple named subjects with the following elements: \"physics\", \"chemistry\", \"english\", \"math\", and \"biology\".\n",
    "\n",
    "subjects = (\"physics\",\"chemistry\",\"english\",\"math\",\"biology\")\n",
    "print(subjects)\n",
    "\n",
    "# Attempt to append \"literature\" to the tuple and observe the result. Suggest an alternative way to add an element to a tuple. \n",
    "\n",
    "subjects.append(\"litreature\")\n",
    "print(subjects)\n",
    "\n",
    "# Alternative way is to create a tuplelist and append it\n",
    "\n",
    "subjects_list = list(subjects)\n",
    "subjects_list.append(\"litreature\")\n",
    "print(subjects_list)\n",
    "\n",
    "# Count the number of elements in the subjects tuple.\n",
    "\n",
    "print(len(subjects_list))\n"
   ]
  },
  {
   "cell_type": "markdown",
   "metadata": {},
   "source": [
    "Question 3"
   ]
  },
  {
   "cell_type": "code",
   "execution_count": 20,
   "metadata": {},
   "outputs": [
    {
     "name": "stdout",
     "output_type": "stream",
     "text": [
      "[10, 6, 7, 8, 9, 3]\n",
      "[3, 6, 7, 8, 9, 10]\n",
      "None\n"
     ]
    }
   ],
   "source": [
    "# Create a list named students_id with the values [10, 6, 7, 8, 9, 3].\n",
    "\n",
    "students_id = [10,6,7,8,9,3]\n",
    "print(students_id)\n",
    "\n",
    "# Sort the list in descending order and reinitialize it as sorted_students_id.\n",
    "\n",
    "print(sorted(students_id))\n",
    "\n",
    "# Remove all elements from the sorted_students_id list.\n",
    "\n",
    "print(students_id.clear())"
   ]
  },
  {
   "cell_type": "markdown",
   "metadata": {},
   "source": [
    "Question 4"
   ]
  },
  {
   "cell_type": "code",
   "execution_count": 10,
   "metadata": {},
   "outputs": [
    {
     "name": "stdout",
     "output_type": "stream",
     "text": [
      "[15, 12, 9, 6, 3]\n"
     ]
    }
   ],
   "source": [
    "# Generate a list of numbers starting from 15 and decreasing by 3 each step, until the number is positive (not inclusive of zero). \n",
    "# Store it in a variable named desc_list.\n",
    "\n",
    "desc_list = list(range(15,0,-3))\n",
    "print(desc_list)"
   ]
  },
  {
   "cell_type": "markdown",
   "metadata": {},
   "source": [
    "Question 5"
   ]
  },
  {
   "cell_type": "code",
   "execution_count": 12,
   "metadata": {},
   "outputs": [
    {
     "name": "stdout",
     "output_type": "stream",
     "text": [
      "[2, 4, 6, 8, 10, 12, 14, 16, 18, 20, 22, 24, 26, 28]\n"
     ]
    }
   ],
   "source": [
    "# Generate a list of numbers starting from 2, increasing by 2 each step, until the list contains 14 elements.\n",
    "# Store it in a variable named asc_list.\n",
    "\n",
    "asc_list = [2* a for a in range(1,15)]\n",
    "print(asc_list)"
   ]
  },
  {
   "cell_type": "markdown",
   "metadata": {},
   "source": [
    "Question 6"
   ]
  },
  {
   "cell_type": "code",
   "execution_count": 13,
   "metadata": {},
   "outputs": [
    {
     "name": "stdout",
     "output_type": "stream",
     "text": [
      "[15, 12, 9, 6, 3, 2, 4, 6, 8, 10, 12, 14, 16, 18, 20, 22, 24, 26, 28]\n",
      "Even Numbers:  [12, 6, 2, 4, 6, 8, 10, 12, 14, 16, 18, 20, 22, 24, 26, 28]\n",
      "Odd Numbers:  [15, 9, 3]\n"
     ]
    }
   ],
   "source": [
    "# Combining and Separating Lists Task: Combine the lists generated in Questions 4 and 5 into a single list named combined_list.\n",
    "\n",
    "combined_list = desc_list + asc_list\n",
    "print(combined_list) \n",
    "  \n",
    "# Separate the even and odd numbers from combined_list into two separate lists: even_numbers and odd_numbers.\n",
    "even_numbers = []\n",
    "odd_numbers = []\n",
    "\n",
    "for num in combined_list:\n",
    "    if num % 2 ==0:\n",
    "        even_numbers.append(num)\n",
    "    else:\n",
    "        odd_numbers.append(num)\n",
    "\n",
    "print(\"Even Numbers: \",even_numbers)\n",
    "print(\"Odd Numbers: \",odd_numbers)\n"
   ]
  },
  {
   "cell_type": "markdown",
   "metadata": {},
   "source": [
    "Question 7"
   ]
  },
  {
   "cell_type": "code",
   "execution_count": 1,
   "metadata": {},
   "outputs": [
    {
     "name": "stdout",
     "output_type": "stream",
     "text": [
      "Area:  50.26548245743669\n",
      "Circumference:  25.132741228718345\n"
     ]
    }
   ],
   "source": [
    "#  Create a function circle_properties(radius) that takes in the radius of a circle and returns both the area and circumference.\n",
    "import math\n",
    "Radius = input(\"Radius: \")\n",
    "Area = math.pi*int(Radius)**2\n",
    "Circumference = 2*math.pi*int(Radius)\n",
    "print(\"Area: \", Area)\n",
    "print(\"Circumference: \", Circumference)\n",
    "\n"
   ]
  },
  {
   "cell_type": "markdown",
   "metadata": {},
   "source": [
    "Question 8"
   ]
  },
  {
   "cell_type": "code",
   "execution_count": 14,
   "metadata": {},
   "outputs": [
    {
     "name": "stdout",
     "output_type": "stream",
     "text": [
      "Hello World!\n"
     ]
    }
   ],
   "source": [
    "# Custom Function Task: Define a function that performs a task you find interesting. Demonstrate how this function works\n",
    "\n",
    "import random\n",
    "\n",
    "\n"
   ]
  },
  {
   "cell_type": "markdown",
   "metadata": {},
   "source": [
    "Question 9"
   ]
  },
  {
   "cell_type": "code",
   "execution_count": 57,
   "metadata": {},
   "outputs": [
    {
     "name": "stdout",
     "output_type": "stream",
     "text": [
      "{'alice': 85, 'Bob': 90, 'Charlie': 78}\n",
      "{'alice': 85, 'Bob': 90, 'Charlie': 78, 'David': 92}\n",
      "{'alice': 88, 'Bob': 90, 'Charlie': 78, 'David': 92}\n"
     ]
    }
   ],
   "source": [
    "# Create a dictionary named student_grades with the following keys and values: \"Alice\": 85, \"Bob\": 90, and \"Charlie\": 78.\n",
    "\n",
    "student_grades = {\n",
    "    \"alice\":85,\n",
    "    \"Bob\":90,\n",
    "    \"Charlie\":78\n",
    "}\n",
    "print(student_grades)\n",
    "\n",
    "# Add a new student, \"David\", with a grade of 92 to the student_grades dictionary. \n",
    "student_grades[\"David\"] = 92\n",
    "print(student_grades)\n",
    "\n",
    "# Update \"Alice\"'s grade to 88.\n",
    "student_grades[\"alice\"] = 88\n",
    "print(student_grades)"
   ]
  },
  {
   "cell_type": "markdown",
   "metadata": {},
   "source": [
    "Question 10"
   ]
  },
  {
   "cell_type": "code",
   "execution_count": null,
   "metadata": {},
   "outputs": [],
   "source": [
    "# Given the list of fruits [\"apple\", \"banana\", \"apple\", \"orange\", \"banana\", \"apple\"], \n",
    "# create a dictionary named fruit_count that counts the number of times each fruit appears in the list.\n",
    "\n",
    "list_fruits = [\"apple\",\"Banana\",\"apple\",\"orange\",\"banana\",\"apple\"]\n",
    "fruit_count = {}\n",
    "\n",
    "for fruit in list_fruits:\n",
    "    if fruit in fruit_count"
   ]
  }
 ],
 "metadata": {
  "kernelspec": {
   "display_name": "Python 3",
   "language": "python",
   "name": "python3"
  },
  "language_info": {
   "codemirror_mode": {
    "name": "ipython",
    "version": 3
   },
   "file_extension": ".py",
   "mimetype": "text/x-python",
   "name": "python",
   "nbconvert_exporter": "python",
   "pygments_lexer": "ipython3",
   "version": "3.12.6"
  }
 },
 "nbformat": 4,
 "nbformat_minor": 2
}
