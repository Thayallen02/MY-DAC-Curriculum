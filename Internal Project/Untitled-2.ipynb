{
 "cells": [
  {
   "cell_type": "code",
   "execution_count": 2,
   "metadata": {},
   "outputs": [],
   "source": [
    "import pandas as pd         \n",
    "import numpy as np         \n",
    "import matplotlib.pyplot as plt         \n",
    "import seaborn as  sns          "
   ]
  },
  {
   "cell_type": "code",
   "execution_count": 8,
   "metadata": {},
   "outputs": [
    {
     "name": "stdout",
     "output_type": "stream",
     "text": [
      "              precision    recall  f1-score   support\n",
      "\n",
      "           0       0.98      0.21      0.35      9127\n",
      "           1       0.20      0.98      0.34      1867\n",
      "\n",
      "    accuracy                           0.35     10994\n",
      "   macro avg       0.59      0.60      0.35     10994\n",
      "weighted avg       0.85      0.35      0.35     10994\n",
      "\n"
     ]
    }
   ],
   "source": [
    "import pandas as pd\n",
    "from sklearn.model_selection import train_test_split\n",
    "from sklearn.ensemble import RandomForestClassifier\n",
    "from sklearn.metrics import classification_report\n",
    "\n",
    "# Load the data\n",
    "data = pd.read_csv(\"cleaned_file2.csv\")\n",
    "\n",
    "# Encode 'Medical Condition' into obesity and arthritis flags\n",
    "data['Has_Obesity'] = data['Medical Condition'].str.contains('Obesity', case=False, na=False).astype(int)\n",
    "data['Has_Arthritis'] = data['Medical Condition'].str.contains('Arthritis', case=False, na=False).astype(int)\n",
    "\n",
    "# Select features and target\n",
    "features = ['Age', 'Has_Obesity']\n",
    "target = 'Has_Arthritis'\n",
    "\n",
    "# One-hot encode categorical features (e.g., Gender)\n",
    "data = pd.get_dummies(data, columns=['Gender'], drop_first=True)\n",
    "\n",
    "# Split data into training and test sets\n",
    "X_train, X_test, y_train, y_test = train_test_split(data[features], data[target], test_size=0.2, random_state=42)\n",
    "\n",
    "# Train a Random Forest model\n",
    "model = RandomForestClassifier(random_state=42,class_weight='balanced')\n",
    "model.fit(X_train, y_train)\n",
    "\n",
    "# Make predictions\n",
    "y_pred = model.predict(X_test)\n",
    "\n",
    "# Evaluate the model\n",
    "print(classification_report(y_test, y_pred))\n"
   ]
  }
 ],
 "metadata": {
  "kernelspec": {
   "display_name": ".venv",
   "language": "python",
   "name": "python3"
  },
  "language_info": {
   "codemirror_mode": {
    "name": "ipython",
    "version": 3
   },
   "file_extension": ".py",
   "mimetype": "text/x-python",
   "name": "python",
   "nbconvert_exporter": "python",
   "pygments_lexer": "ipython3",
   "version": "3.10.2"
  }
 },
 "nbformat": 4,
 "nbformat_minor": 2
}
